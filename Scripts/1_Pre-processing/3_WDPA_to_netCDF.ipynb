{
 "cells": [
  {
   "cell_type": "code",
   "execution_count": null,
   "id": "653e4af4-38f3-4b86-8497-dbd3d73dbda2",
   "metadata": {},
   "outputs": [],
   "source": [
    "## Load packages\n",
    "import numpy as np\n",
    "import geopandas as gpd\n",
    "import pandas as pd\n",
    "import xarray as xr\n",
    "import rasterio\n",
    "from rasterio.features import rasterize\n",
    "from rasterio.transform import from_bounds\n",
    "from shapely.geometry import mapping\n",
    "from shapely.geometry import Polygon\n"
   ]
  },
  {
   "cell_type": "code",
   "execution_count": null,
   "id": "0d6efc39-cd0a-46c4-a916-e0f648b6cfb8",
   "metadata": {},
   "outputs": [],
   "source": [
    "## Define paths\n",
    "# BA file for resampling resolution\n",
    "path_wdpa = 'path-of-WDPA-shapefile'\n",
    "path_ba = 'path-one-year-resampled-BA-file'\n",
    "\n",
    "## output paths\n",
    "output_tiff = 'output-path-to-save-as-tiff'\n",
    "output_nc = 'output-path-to-save-as-netCDF'"
   ]
  },
  {
   "cell_type": "code",
   "execution_count": 12,
   "id": "ac304c00-d10d-4d94-98f5-3287341b1f26",
   "metadata": {},
   "outputs": [],
   "source": [
    "## Read and clean WDPA data\n",
    "gdf = gpd.read_file(path_wdpa)\n",
    "\n",
    "# Ensure the STATUS_YR column is an integer\n",
    "gdf['STATUS_YR'] = gdf['STATUS_YR'].astype(int)\n",
    "\n",
    "# Remove areas with missing status year\n",
    "gdf = gdf[gdf['STATUS_YR'] != 0] "
   ]
  },
  {
   "cell_type": "markdown",
   "id": "53434fd5-b512-4d11-9672-4a1bca7a0388",
   "metadata": {},
   "source": [
    "## Rasterize WDPA shapefile and create netCDF"
   ]
  },
  {
   "cell_type": "code",
   "execution_count": 13,
   "id": "3c844c2d-e2b2-4462-ada0-10fa6adcdb4c",
   "metadata": {},
   "outputs": [],
   "source": [
    "# Read the burned area raster to get resolution and bounds\n",
    "with rasterio.open(path_ba) as src:\n",
    "    bounds = src.bounds  # Get bounds of the raster\n",
    "    resolution = src.res  # Get resolution (tuple: (x_res, y_res))\n",
    "    crs = src.crs  # Get CRS\n",
    "    transform = src.transform  # Get affine transform\n",
    "\n",
    "# Step 3: Create a blank raster\n",
    "width = int((bounds.right - bounds.left) / resolution[0])  # Number of columns\n",
    "height = int((bounds.top - bounds.bottom) / resolution[1])  # Number of rows\n",
    "transform = from_bounds(bounds.left, bounds.bottom, bounds.right, bounds.top, width, height)"
   ]
  },
  {
   "cell_type": "code",
   "execution_count": 14,
   "id": "b358a45c-f919-4fd7-9bfe-358b45c4dc43",
   "metadata": {},
   "outputs": [],
   "source": [
    "# Get WDPA shapes and rasterize based on resolution of BA\n",
    "shapes = [(geom, getattr(row, 'STATUS_YR')) for geom, row in zip(gdf.geometry, gdf.itertuples())]\n",
    "\n",
    "# Rasterize the shapes\n",
    "raster = rasterize(\n",
    "    shapes=shapes,\n",
    "    out_shape=(height, width),\n",
    "    transform=transform,\n",
    "    fill=0,  # Value for pixels not covered by any polygon\n",
    "    dtype='int32'\n",
    ")"
   ]
  },
  {
   "cell_type": "code",
   "execution_count": 16,
   "id": "d03fcccf-5495-4b16-a28e-c4974f9c66a5",
   "metadata": {},
   "outputs": [],
   "source": [
    "# Save rasterized output as tiff file\n",
    "with rasterio.open(\n",
    "    output_tiff,\n",
    "    'w',\n",
    "    driver='GTiff',\n",
    "    height=height,\n",
    "    width=width,\n",
    "    count=1,\n",
    "    dtype='int32',\n",
    "    crs=crs,\n",
    "    transform=transform,\n",
    ") as dst:\n",
    "    dst.write(raster, 1)"
   ]
  },
  {
   "cell_type": "code",
   "execution_count": null,
   "id": "d7b63761-fb3e-4b82-a901-9701c15c90ff",
   "metadata": {},
   "outputs": [],
   "source": [
    "## Load WDPA raster data \n",
    "with rasterio.open(output_tiff) as src:\n",
    "    # Read raster data\n",
    "    raster_data = src.read(1)  # Assuming the data is in the first band\n",
    "    transform = src.transform\n",
    "    crs = src.crs\n",
    "    width = src.width\n",
    "    height = src.height"
   ]
  },
  {
   "cell_type": "code",
   "execution_count": null,
   "id": "0c68f960-1ca7-40d5-b14b-77f1f78ccf2d",
   "metadata": {},
   "outputs": [],
   "source": [
    "## Convert to netCDF\n",
    "\n",
    "# Create PA_status and PA_year arrays\n",
    "pa_status = np.where(raster_data > 0, 1, 0)  # 1 for protected, 0 for unprotected\n",
    "pa_year = np.where(pa_status == 1, raster_data, np.nan)  # Year for protected, NaN for unprotected\n",
    "\n",
    "# Create coordinates for the raster grid\n",
    "x_coords = np.arange(width) * transform[0] + transform[2]  # Longitude values\n",
    "y_coords = np.arange(height) * transform[4] + transform[5]  # Latitude values\n",
    "\n",
    "# Create xarray Dataset\n",
    "ds = xr.Dataset(\n",
    "    {\n",
    "        \"PA_status\": ([\"Latitude\", \"Longitude\"], pa_status),\n",
    "        \"PA_year\": ([\"Latitude\", \"Longitude\"], pa_year),\n",
    "    },\n",
    "    coords={\n",
    "        \"Longitude\": x_coords,\n",
    "        \"Latitude\": y_coords,\n",
    "    },\n",
    "    attrs={\n",
    "        \"crs\": str(crs),\n",
    "        \"description\": \"Protected Areas Dataset\",\n",
    "    }\n",
    ")\n",
    "\n",
    "# Save to NetCDF\n",
    "ds.to_netcdf(output_nc)"
   ]
  },
  {
   "cell_type": "code",
   "execution_count": null,
   "id": "68a1e91f-ba50-4e51-9a7e-cc2e077df9d3",
   "metadata": {},
   "outputs": [],
   "source": []
  },
  {
   "cell_type": "code",
   "execution_count": null,
   "id": "b6dc64f4-51fb-4a63-a28b-5e633ab6cf1f",
   "metadata": {},
   "outputs": [],
   "source": []
  },
  {
   "cell_type": "code",
   "execution_count": null,
   "id": "739cd6a4-ca01-40c1-a7ab-9f5e4ef10676",
   "metadata": {},
   "outputs": [],
   "source": []
  }
 ],
 "metadata": {
  "kernelspec": {
   "display_name": "MasterEnv",
   "language": "python",
   "name": "master_env"
  },
  "language_info": {
   "codemirror_mode": {
    "name": "ipython",
    "version": 3
   },
   "file_extension": ".py",
   "mimetype": "text/x-python",
   "name": "python",
   "nbconvert_exporter": "python",
   "pygments_lexer": "ipython3",
   "version": "3.12.4"
  }
 },
 "nbformat": 4,
 "nbformat_minor": 5
}
