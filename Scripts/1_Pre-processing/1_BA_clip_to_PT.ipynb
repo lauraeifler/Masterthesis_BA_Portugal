{
 "cells": [
  {
   "cell_type": "code",
   "execution_count": null,
   "id": "5eb82898-fac0-496b-b932-ef71ddd0fc37",
   "metadata": {},
   "outputs": [],
   "source": [
    "## Load all packages\n",
    "import os\n",
    "import rasterio\n",
    "from rasterio.mask import mask\n",
    "import geopandas as gpd\n",
    "import numpy as np"
   ]
  },
  {
   "cell_type": "code",
   "execution_count": null,
   "id": "84bca92f-fd05-46d7-ae66-eb09e774ea40",
   "metadata": {},
   "outputs": [],
   "source": [
    "# Define paths\n",
    "base_dir = \"your-path-BA-data\"   # Directory containing folders 2001, 2002, etc.\n",
    "output_dir = \"your-output-path\"  # Directory to save the clipped rasters\n",
    "portugal_shapefile = \"path-and-data-Portugal-shapefile\"  # Path to Portugal shapefile\n"
   ]
  },
  {
   "cell_type": "code",
   "execution_count": null,
   "id": "74077a5f-14f4-44fd-b5ab-bbd589096c7c",
   "metadata": {},
   "outputs": [],
   "source": [
    "# Load the Portugal shapefile\n",
    "portugal_shape = gpd.read_file(portugal_shapefile)\n",
    "portugal_geom = [portugal_shape.geometry.unary_union]  # Get the unified geometry for clipping\n"
   ]
  },
  {
   "cell_type": "code",
   "execution_count": null,
   "id": "4d6b3674-9ad5-4d0a-8aff-e6457a9635de",
   "metadata": {
    "scrolled": true
   },
   "outputs": [],
   "source": [
    "#  Loop through each year directory and clip to PT shape\n",
    "for year in range(2001, 2021):\n",
    "    year_dir = os.path.join(base_dir, str(year))\n",
    "    \n",
    "    if os.path.isdir(year_dir):\n",
    "        # Ensure year-specific output directory exists\n",
    "        year_output_dir = os.path.join(output_dir, str(year))\n",
    "        os.makedirs(year_output_dir, exist_ok=True)\n",
    "        \n",
    "        # Process each file in the directory\n",
    "        for filename in os.listdir(year_dir):\n",
    "            if filename.endswith((\".tif\")) and any(suffix in filename for suffix in [\"LC\", \"JD\", \"CL\"]):\n",
    "                file_path = os.path.join(year_dir, filename)\n",
    "                \n",
    "                # Open the raster file\n",
    "                with rasterio.open(file_path) as src:\n",
    "                    # Clip the raster with Portugal's geometry\n",
    "                    clipped_image, clipped_transform = mask(src, portugal_geom, crop=True)\n",
    "                    \n",
    "                    # Update metadata with new transform and bounds\n",
    "                    out_meta = src.meta.copy()\n",
    "                    out_meta.update({\n",
    "                        \"driver\": \"GTiff\",\n",
    "                        \"height\": clipped_image.shape[1],\n",
    "                        \"width\": clipped_image.shape[2],\n",
    "                        \"transform\": clipped_transform\n",
    "                    })\n",
    "                    \n",
    "                    # Define output file path with modified filename, saving to the year-specific folder\n",
    "                    output_filename = f\"{filename.replace('.tif', '')}_PT_shape.tif\"\n",
    "                    output_path = os.path.join(year_output_dir, output_filename)\n",
    "                    \n",
    "                    # Save the clipped raster\n",
    "                    with rasterio.open(output_path, \"w\", **out_meta) as dest:\n",
    "                        dest.write(clipped_image)\n",
    "                \n",
    "                print(f\"Saved clipped file: {output_path}\")"
   ]
  },
  {
   "cell_type": "code",
   "execution_count": null,
   "id": "b0ad5cda-7525-4cc0-8cbf-0e532913a9b9",
   "metadata": {},
   "outputs": [],
   "source": []
  }
 ],
 "metadata": {
  "kernelspec": {
   "display_name": "MasterEnv",
   "language": "python",
   "name": "master_env"
  },
  "language_info": {
   "codemirror_mode": {
    "name": "ipython",
    "version": 3
   },
   "file_extension": ".py",
   "mimetype": "text/x-python",
   "name": "python",
   "nbconvert_exporter": "python",
   "pygments_lexer": "ipython3",
   "version": "3.12.4"
  }
 },
 "nbformat": 4,
 "nbformat_minor": 5
}
